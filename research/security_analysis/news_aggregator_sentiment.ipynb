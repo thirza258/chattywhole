{
 "cells": [
  {
   "cell_type": "code",
   "execution_count": null,
   "id": "65b9fef8",
   "metadata": {},
   "outputs": [],
   "source": [
    "import requests\n",
    "\n",
    "NEWS_API_KEY = 'YOUR_NEWSAPI_KEY'\n",
    "\n",
    "def get_news_by_company(company_name, api_key=NEWS_API_KEY):\n",
    "    \"\"\"\n",
    "    Fetch latest news articles mentioning a given company name using NewsAPI.\n",
    "    \"\"\"\n",
    "    url = 'https://newsapi.org/v2/everything'\n",
    "    params = {\n",
    "        'q': company_name,\n",
    "        'sortBy': 'publishedAt',\n",
    "        'language': 'en',\n",
    "        'apiKey': api_key,\n",
    "        'pageSize': 10\n",
    "    }\n",
    "    response = requests.get(url, params=params)\n",
    "    response.raise_for_status()\n",
    "    data = response.json()\n",
    "    return data.get('articles', [])\n",
    "\n",
    "# Example usage:\n",
    "company_name = \"Apple\"\n",
    "articles = get_news_by_company(company_name)\n",
    "for i, article in enumerate(articles, 1):\n",
    "    print(f\"{i}. {article['title']}\")\n",
    "    print(f\"   {article['description']}\")\n",
    "    print(f\"   {article['url']}\\n\")\n"
   ]
  }
 ],
 "metadata": {
  "kernelspec": {
   "display_name": "env",
   "language": "python",
   "name": "python3"
  },
  "language_info": {
   "name": "python",
   "version": "3.11.3"
  }
 },
 "nbformat": 4,
 "nbformat_minor": 5
}
